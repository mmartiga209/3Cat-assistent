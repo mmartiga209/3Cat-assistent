{
 "cells": [
  {
   "cell_type": "code",
   "execution_count": 1,
   "metadata": {},
   "outputs": [],
   "source": [
    "import pandas as pd\n",
    "\n",
    "df1 = pd.read_csv('ai_news_dataset.csv')\n",
    "df2 = pd.read_csv('euaeleccions_news_dataset.csv')\n"
   ]
  },
  {
   "cell_type": "code",
   "execution_count": 2,
   "metadata": {},
   "outputs": [
    {
     "data": {
      "text/plain": [
       "Index(['data', 'entradeta', 'permatitle', 'avantitol', 'tematiques', 'tags',\n",
       "       'id', 'titol', 'imatges', 'titol_portada', 'comarques'],\n",
       "      dtype='object')"
      ]
     },
     "execution_count": 2,
     "metadata": {},
     "output_type": "execute_result"
    }
   ],
   "source": [
    "df1.columns"
   ]
  },
  {
   "cell_type": "code",
   "execution_count": 3,
   "metadata": {},
   "outputs": [
    {
     "data": {
      "text/plain": [
       "Index(['data', 'entradeta', 'permatitle', 'avantitol', 'tematiques', 'tags',\n",
       "       'id', 'titol', 'imatges', 'titol_portada', 'comarques'],\n",
       "      dtype='object')"
      ]
     },
     "execution_count": 3,
     "metadata": {},
     "output_type": "execute_result"
    }
   ],
   "source": [
    "df2.columns"
   ]
  },
  {
   "cell_type": "code",
   "execution_count": 4,
   "metadata": {},
   "outputs": [],
   "source": [
    "df_id = pd.read_csv('dataset_id.csv')"
   ]
  },
  {
   "cell_type": "code",
   "execution_count": 5,
   "metadata": {},
   "outputs": [
    {
     "data": {
      "text/plain": [
       "Index(['id', 'entradeta', 'cos', 'redactor', 'imatges'], dtype='object')"
      ]
     },
     "execution_count": 5,
     "metadata": {},
     "output_type": "execute_result"
    }
   ],
   "source": [
    "df_id.columns"
   ]
  },
  {
   "cell_type": "code",
   "execution_count": 8,
   "metadata": {},
   "outputs": [
    {
     "ename": "KeyError",
     "evalue": "\"['entradeta', 'imatges'] not found in axis\"",
     "output_type": "error",
     "traceback": [
      "\u001b[1;31m---------------------------------------------------------------------------\u001b[0m",
      "\u001b[1;31mKeyError\u001b[0m                                  Traceback (most recent call last)",
      "Cell \u001b[1;32mIn[8], line 1\u001b[0m\n\u001b[1;32m----> 1\u001b[0m \u001b[43mdf_id\u001b[49m\u001b[38;5;241;43m.\u001b[39;49m\u001b[43mdrop\u001b[49m\u001b[43m(\u001b[49m\u001b[43mcolumns\u001b[49m\u001b[38;5;241;43m=\u001b[39;49m\u001b[43m[\u001b[49m\u001b[38;5;124;43m'\u001b[39;49m\u001b[38;5;124;43mentradeta\u001b[39;49m\u001b[38;5;124;43m'\u001b[39;49m\u001b[43m,\u001b[49m\u001b[38;5;124;43m'\u001b[39;49m\u001b[38;5;124;43mimatges\u001b[39;49m\u001b[38;5;124;43m'\u001b[39;49m\u001b[43m]\u001b[49m\u001b[43m,\u001b[49m\u001b[43m \u001b[49m\u001b[43minplace\u001b[49m\u001b[38;5;241;43m=\u001b[39;49m\u001b[38;5;28;43;01mTrue\u001b[39;49;00m\u001b[43m)\u001b[49m\n\u001b[0;32m      2\u001b[0m df_id\u001b[38;5;241m.\u001b[39mcolumns\n",
      "File \u001b[1;32mc:\\Users\\marti\\anaconda3\\envs\\api_env\\lib\\site-packages\\pandas\\core\\frame.py:5258\u001b[0m, in \u001b[0;36mDataFrame.drop\u001b[1;34m(self, labels, axis, index, columns, level, inplace, errors)\u001b[0m\n\u001b[0;32m   5110\u001b[0m \u001b[38;5;28;01mdef\u001b[39;00m \u001b[38;5;21mdrop\u001b[39m(\n\u001b[0;32m   5111\u001b[0m     \u001b[38;5;28mself\u001b[39m,\n\u001b[0;32m   5112\u001b[0m     labels: IndexLabel \u001b[38;5;241m=\u001b[39m \u001b[38;5;28;01mNone\u001b[39;00m,\n\u001b[1;32m   (...)\u001b[0m\n\u001b[0;32m   5119\u001b[0m     errors: IgnoreRaise \u001b[38;5;241m=\u001b[39m \u001b[38;5;124m\"\u001b[39m\u001b[38;5;124mraise\u001b[39m\u001b[38;5;124m\"\u001b[39m,\n\u001b[0;32m   5120\u001b[0m ) \u001b[38;5;241m-\u001b[39m\u001b[38;5;241m>\u001b[39m DataFrame \u001b[38;5;241m|\u001b[39m \u001b[38;5;28;01mNone\u001b[39;00m:\n\u001b[0;32m   5121\u001b[0m \u001b[38;5;250m    \u001b[39m\u001b[38;5;124;03m\"\"\"\u001b[39;00m\n\u001b[0;32m   5122\u001b[0m \u001b[38;5;124;03m    Drop specified labels from rows or columns.\u001b[39;00m\n\u001b[0;32m   5123\u001b[0m \n\u001b[1;32m   (...)\u001b[0m\n\u001b[0;32m   5256\u001b[0m \u001b[38;5;124;03m            weight  1.0     0.8\u001b[39;00m\n\u001b[0;32m   5257\u001b[0m \u001b[38;5;124;03m    \"\"\"\u001b[39;00m\n\u001b[1;32m-> 5258\u001b[0m     \u001b[38;5;28;01mreturn\u001b[39;00m \u001b[38;5;28;43msuper\u001b[39;49m\u001b[43m(\u001b[49m\u001b[43m)\u001b[49m\u001b[38;5;241;43m.\u001b[39;49m\u001b[43mdrop\u001b[49m\u001b[43m(\u001b[49m\n\u001b[0;32m   5259\u001b[0m \u001b[43m        \u001b[49m\u001b[43mlabels\u001b[49m\u001b[38;5;241;43m=\u001b[39;49m\u001b[43mlabels\u001b[49m\u001b[43m,\u001b[49m\n\u001b[0;32m   5260\u001b[0m \u001b[43m        \u001b[49m\u001b[43maxis\u001b[49m\u001b[38;5;241;43m=\u001b[39;49m\u001b[43maxis\u001b[49m\u001b[43m,\u001b[49m\n\u001b[0;32m   5261\u001b[0m \u001b[43m        \u001b[49m\u001b[43mindex\u001b[49m\u001b[38;5;241;43m=\u001b[39;49m\u001b[43mindex\u001b[49m\u001b[43m,\u001b[49m\n\u001b[0;32m   5262\u001b[0m \u001b[43m        \u001b[49m\u001b[43mcolumns\u001b[49m\u001b[38;5;241;43m=\u001b[39;49m\u001b[43mcolumns\u001b[49m\u001b[43m,\u001b[49m\n\u001b[0;32m   5263\u001b[0m \u001b[43m        \u001b[49m\u001b[43mlevel\u001b[49m\u001b[38;5;241;43m=\u001b[39;49m\u001b[43mlevel\u001b[49m\u001b[43m,\u001b[49m\n\u001b[0;32m   5264\u001b[0m \u001b[43m        \u001b[49m\u001b[43minplace\u001b[49m\u001b[38;5;241;43m=\u001b[39;49m\u001b[43minplace\u001b[49m\u001b[43m,\u001b[49m\n\u001b[0;32m   5265\u001b[0m \u001b[43m        \u001b[49m\u001b[43merrors\u001b[49m\u001b[38;5;241;43m=\u001b[39;49m\u001b[43merrors\u001b[49m\u001b[43m,\u001b[49m\n\u001b[0;32m   5266\u001b[0m \u001b[43m    \u001b[49m\u001b[43m)\u001b[49m\n",
      "File \u001b[1;32mc:\\Users\\marti\\anaconda3\\envs\\api_env\\lib\\site-packages\\pandas\\core\\generic.py:4549\u001b[0m, in \u001b[0;36mNDFrame.drop\u001b[1;34m(self, labels, axis, index, columns, level, inplace, errors)\u001b[0m\n\u001b[0;32m   4547\u001b[0m \u001b[38;5;28;01mfor\u001b[39;00m axis, labels \u001b[38;5;129;01min\u001b[39;00m axes\u001b[38;5;241m.\u001b[39mitems():\n\u001b[0;32m   4548\u001b[0m     \u001b[38;5;28;01mif\u001b[39;00m labels \u001b[38;5;129;01mis\u001b[39;00m \u001b[38;5;129;01mnot\u001b[39;00m \u001b[38;5;28;01mNone\u001b[39;00m:\n\u001b[1;32m-> 4549\u001b[0m         obj \u001b[38;5;241m=\u001b[39m \u001b[43mobj\u001b[49m\u001b[38;5;241;43m.\u001b[39;49m\u001b[43m_drop_axis\u001b[49m\u001b[43m(\u001b[49m\u001b[43mlabels\u001b[49m\u001b[43m,\u001b[49m\u001b[43m \u001b[49m\u001b[43maxis\u001b[49m\u001b[43m,\u001b[49m\u001b[43m \u001b[49m\u001b[43mlevel\u001b[49m\u001b[38;5;241;43m=\u001b[39;49m\u001b[43mlevel\u001b[49m\u001b[43m,\u001b[49m\u001b[43m \u001b[49m\u001b[43merrors\u001b[49m\u001b[38;5;241;43m=\u001b[39;49m\u001b[43merrors\u001b[49m\u001b[43m)\u001b[49m\n\u001b[0;32m   4551\u001b[0m \u001b[38;5;28;01mif\u001b[39;00m inplace:\n\u001b[0;32m   4552\u001b[0m     \u001b[38;5;28mself\u001b[39m\u001b[38;5;241m.\u001b[39m_update_inplace(obj)\n",
      "File \u001b[1;32mc:\\Users\\marti\\anaconda3\\envs\\api_env\\lib\\site-packages\\pandas\\core\\generic.py:4591\u001b[0m, in \u001b[0;36mNDFrame._drop_axis\u001b[1;34m(self, labels, axis, level, errors, only_slice)\u001b[0m\n\u001b[0;32m   4589\u001b[0m         new_axis \u001b[38;5;241m=\u001b[39m axis\u001b[38;5;241m.\u001b[39mdrop(labels, level\u001b[38;5;241m=\u001b[39mlevel, errors\u001b[38;5;241m=\u001b[39merrors)\n\u001b[0;32m   4590\u001b[0m     \u001b[38;5;28;01melse\u001b[39;00m:\n\u001b[1;32m-> 4591\u001b[0m         new_axis \u001b[38;5;241m=\u001b[39m \u001b[43maxis\u001b[49m\u001b[38;5;241;43m.\u001b[39;49m\u001b[43mdrop\u001b[49m\u001b[43m(\u001b[49m\u001b[43mlabels\u001b[49m\u001b[43m,\u001b[49m\u001b[43m \u001b[49m\u001b[43merrors\u001b[49m\u001b[38;5;241;43m=\u001b[39;49m\u001b[43merrors\u001b[49m\u001b[43m)\u001b[49m\n\u001b[0;32m   4592\u001b[0m     indexer \u001b[38;5;241m=\u001b[39m axis\u001b[38;5;241m.\u001b[39mget_indexer(new_axis)\n\u001b[0;32m   4594\u001b[0m \u001b[38;5;66;03m# Case for non-unique axis\u001b[39;00m\n\u001b[0;32m   4595\u001b[0m \u001b[38;5;28;01melse\u001b[39;00m:\n",
      "File \u001b[1;32mc:\\Users\\marti\\anaconda3\\envs\\api_env\\lib\\site-packages\\pandas\\core\\indexes\\base.py:6699\u001b[0m, in \u001b[0;36mIndex.drop\u001b[1;34m(self, labels, errors)\u001b[0m\n\u001b[0;32m   6697\u001b[0m \u001b[38;5;28;01mif\u001b[39;00m mask\u001b[38;5;241m.\u001b[39many():\n\u001b[0;32m   6698\u001b[0m     \u001b[38;5;28;01mif\u001b[39;00m errors \u001b[38;5;241m!=\u001b[39m \u001b[38;5;124m\"\u001b[39m\u001b[38;5;124mignore\u001b[39m\u001b[38;5;124m\"\u001b[39m:\n\u001b[1;32m-> 6699\u001b[0m         \u001b[38;5;28;01mraise\u001b[39;00m \u001b[38;5;167;01mKeyError\u001b[39;00m(\u001b[38;5;124mf\u001b[39m\u001b[38;5;124m\"\u001b[39m\u001b[38;5;132;01m{\u001b[39;00m\u001b[38;5;28mlist\u001b[39m(labels[mask])\u001b[38;5;132;01m}\u001b[39;00m\u001b[38;5;124m not found in axis\u001b[39m\u001b[38;5;124m\"\u001b[39m)\n\u001b[0;32m   6700\u001b[0m     indexer \u001b[38;5;241m=\u001b[39m indexer[\u001b[38;5;241m~\u001b[39mmask]\n\u001b[0;32m   6701\u001b[0m \u001b[38;5;28;01mreturn\u001b[39;00m \u001b[38;5;28mself\u001b[39m\u001b[38;5;241m.\u001b[39mdelete(indexer)\n",
      "\u001b[1;31mKeyError\u001b[0m: \"['entradeta', 'imatges'] not found in axis\""
     ]
    }
   ],
   "source": [
    "df_id.drop(columns=['entradeta','imatges'], inplace=True)\n",
    "df_id.columns"
   ]
  },
  {
   "cell_type": "code",
   "execution_count": 10,
   "metadata": {},
   "outputs": [
    {
     "name": "stdout",
     "output_type": "stream",
     "text": [
      "           data                                          entradeta  \\\n",
      "0    2021-01-19  Demà, a les 23.15, el 33 estrena \"Forjant el f...   \n",
      "1    2021-01-22                                                NaN   \n",
      "2    2021-02-01  Els investigadors han enregistrat l'activitat ...   \n",
      "3    2021-02-17                                                NaN   \n",
      "4    2021-03-12  Aquesta diumenge, al \"Revolució 4.0\", Xantal L...   \n",
      "..          ...                                                ...   \n",
      "347  2024-10-27  L'Ai-Da ha pintat amb intel·ligència artificia...   \n",
      "348  03/11/2024                                                NaN   \n",
      "349  11/11/2024  El reportatge \"La IA i la ment humana\", del \"3...   \n",
      "350  14/11/2024  Un gran projecte de la UE amb participació cat...   \n",
      "351  28/11/2024  La tecnologia dona respostes per despistar els...   \n",
      "\n",
      "                                            permatitle  \\\n",
      "0    El 33 estrena \"Forjant el futur\", una sèrie do...   \n",
      "1    Taurus invertirà 4 milions d'euros per duplica...   \n",
      "2    Identifiquen quina música escolta una persona ...   \n",
      "3    La intel·ligència artificial ajuda a predir le...   \n",
      "4    \"Revolució 4.0\" entrevista la secretària d'est...   \n",
      "..                                                 ...   \n",
      "347  Així pinta Ai-Da, la robot humanoide capaç de ...   \n",
      "348  Una empresa catalana desenvolupa un programari...   \n",
      "349  Podrà la intel·ligència artificial arribar a e...   \n",
      "350  Millorar el diagnòstic de càncer a través de l...   \n",
      "351  Daisy Harris, l'entranyable dona creada amb IA...   \n",
      "\n",
      "                                      avantitol  \\\n",
      "0                         DIMECRES, A LES 23.15   \n",
      "1                                           NaN   \n",
      "2                                           NaN   \n",
      "3                                           NaN   \n",
      "4                                           NaN   \n",
      "..                                          ...   \n",
      "347                                         NaN   \n",
      "348                                         NaN   \n",
      "349  Els límits de la intel·ligència artificial   \n",
      "350                                         NaN   \n",
      "351                                         NaN   \n",
      "\n",
      "                                            tematiques  \\\n",
      "0                                                  NaN   \n",
      "1                                                  NaN   \n",
      "2    [{'id': 'PUACT_MUSICA', 'desc': 'Música (Actua...   \n",
      "3                                                  NaN   \n",
      "4                                                  NaN   \n",
      "..                                                 ...   \n",
      "347  [{'id': 'PUACT_CULTUR', 'desc': 'Cultura (Actu...   \n",
      "348                                                NaN   \n",
      "349  [{'id': 'PUACT_PROCAD', 'desc': 'Promoció cade...   \n",
      "350  [{'id': 'PUACT_SOCIET', 'desc': 'Societat', 'm...   \n",
      "351  [{'id': 'PUACT_SOCIET', 'desc': 'Societat', 'm...   \n",
      "\n",
      "                                                  tags       id  \\\n",
      "0                                                  NaN  3072181   \n",
      "1                                                  NaN  3073107   \n",
      "2    [{'id': 'RECERCA', 'desc': 'Recerca científica...  3074830   \n",
      "3                                                  NaN  3077899   \n",
      "4                                                  NaN  3082840   \n",
      "..                                                 ...      ...   \n",
      "347  [{'id': 'ART', 'desc': 'Art', 'main': False}, ...  3318160   \n",
      "348                                                NaN  3319775   \n",
      "349  [{'id': 'ARTIFICIAL', 'desc': 'Intel·ligència ...  3320775   \n",
      "350  [{'id': 'CANCER', 'desc': 'Càncer', 'main': Fa...  3321836   \n",
      "351  [{'id': 'TECNOLOGIA', 'desc': 'Tecnologia', 'm...  3324186   \n",
      "\n",
      "                                                 titol  \\\n",
      "0    El 33 estrena \"Forjant el futur\", una sèrie do...   \n",
      "1    Taurus invertirà 4 milions d'euros per duplica...   \n",
      "2    Identifiquen quina música escolta una persona ...   \n",
      "3    La intel·ligència artificial ajuda a predir le...   \n",
      "4    \"Revolució 4.0\" entrevista la secretària d'est...   \n",
      "..                                                 ...   \n",
      "347  Així pinta l'Ai-Da, la robot humanoide capaç d...   \n",
      "348  Una empresa catalana desenvolupa un programari...   \n",
      "349  Podrà la intel·ligència artificial arribar a e...   \n",
      "350  Millorar el diagnòstic de càncer a través de l...   \n",
      "351  Daisy Harris, l'entranyable dona creada amb IA...   \n",
      "\n",
      "                                               imatges titol_portada  \\\n",
      "0    [{'text': 'https://img.3cat.cat/multimedia/jpg...           NaN   \n",
      "1    [{'text': 'https://img.3cat.cat/multimedia/jpg...           NaN   \n",
      "2    [{'text': 'https://img.3cat.cat/multimedia/jpg...           NaN   \n",
      "3    [{'text': 'https://img.3cat.cat/multimedia/jpg...           NaN   \n",
      "4    [{'text': 'https://img.3cat.cat/multimedia/jpg...           NaN   \n",
      "..                                                 ...           ...   \n",
      "347  [{'text': 'https://img.3cat.cat/multimedia/jpg...           NaN   \n",
      "348                                                NaN           NaN   \n",
      "349  [{'text': 'https://img.3cat.cat/multimedia/jpg...           NaN   \n",
      "350  [{'text': 'https://img.3cat.cat/multimedia/jpg...           NaN   \n",
      "351  [{'text': 'https://img.3cat.cat/multimedia/png...           NaN   \n",
      "\n",
      "                                             comarques  \\\n",
      "0                                                  NaN   \n",
      "1    [{'id': 'PUCOM_ALTURG', 'desc': 'Alt Urgell', ...   \n",
      "2                                                  NaN   \n",
      "3    [{'id': 'PUCOM_BARCEL', 'desc': 'Barcelonès', ...   \n",
      "4                                                  NaN   \n",
      "..                                                 ...   \n",
      "347                                                NaN   \n",
      "348  [{'id': 'PUCOM_BARCEL', 'desc': 'Barcelonès', ...   \n",
      "349                                                NaN   \n",
      "350                                                NaN   \n",
      "351                                                NaN   \n",
      "\n",
      "                                                   cos              redactor  \n",
      "0    El primer capítol de \"Forjant el futur\" se cen...                   NaN  \n",
      "1    ACN Oliana.-Taurus Grup farà una inversió de 4...                   NaN  \n",
      "2    Un sistema d'intel·ligència artificial és capa...          Xavier Duran  \n",
      "3    ACN L'Hospitalet de Llobregat.-Un estudi amb p...                   NaN  \n",
      "4    El programa \"Revolució 4.0\" parlarà amb Carme ...                   NaN  \n",
      "..                                                 ...                   ...  \n",
      "347  \"No pretenc reemplaçar artistes humans. Preten...  Coia Ballesté Brumós  \n",
      "348  ACN Barcelona - L'empresa catalana COMSA ha de...                   NaN  \n",
      "349  \"La IA i la ment humana\", el reportatge del \"3...                   NaN  \n",
      "350  La intel·ligència artificial s'està introduint...                   NaN  \n",
      "351  El nou maldecap per als estafadors del Regne U...              Redacció  \n",
      "\n",
      "[352 rows x 13 columns]\n"
     ]
    }
   ],
   "source": [
    "result_ai_news = pd.merge(df1, df_id, on='id', how='inner')\n",
    "\n",
    "print(result_ai_news)\n"
   ]
  },
  {
   "cell_type": "code",
   "execution_count": 11,
   "metadata": {},
   "outputs": [
    {
     "name": "stdout",
     "output_type": "stream",
     "text": [
      "           data                                          entradeta  \\\n",
      "0    2024-06-28  Biden vol donar una imatge més enèrgica despré...   \n",
      "1    2024-06-28  La mala imatge projectada pel president ha dis...   \n",
      "2    2024-06-28  Fredor i animadversió entre el president, que ...   \n",
      "3    2024-06-29  Time mostra el president a punt de caure de la...   \n",
      "4    2024-07-03  Segons el The New York Times, el president cre...   \n",
      "..          ...                                                ...   \n",
      "129  17/11/2024  Sense cap experiència política, és defensor de...   \n",
      "130  22/11/2024  La designació arriba després que Matt Gaetz, l...   \n",
      "131  23/11/2024  Fundador d'un gestor de fons d'inversió, defen...   \n",
      "132  24/11/2024  En 20 dies, Cuba ha patit dos huracans, dos te...   \n",
      "133  25/11/2024  El fiscal també ha demanat desestimar l'acusac...   \n",
      "\n",
      "                                            permatitle     avantitol  \\\n",
      "0    Biden reapareix decidit a seguir després del f...           NaN   \n",
      "1    Quines opcions hi ha que Biden plegui? La curs...           NaN   \n",
      "2    Un Biden fràgil contra un Trump trampós: prime...           NaN   \n",
      "3    \"Pànic\", la impactant portada que mostra la pr...           NaN   \n",
      "4    Joe Biden hauria dit a un col·laborador que es...           NaN   \n",
      "..                                                 ...           ...   \n",
      "129  Trump tria l'empresari del petroli i negacioni...           NaN   \n",
      "130  Trump tria ara Pam Bondi, exadvocada seva i pr...           NaN   \n",
      "131  Trump situa Scott Bessent, magnat financer i s...           NaN   \n",
      "132  El novembre més negre de Cuba: empobrida i ate...           NaN   \n",
      "133  La Fiscalia demana desestimar el cas contra Tr...  Estats Units   \n",
      "\n",
      "                                            tematiques  \\\n",
      "0    [{'id': 'PUACT_MON', 'desc': 'Món', 'main': Tr...   \n",
      "1    [{'id': 'PUACT_MON', 'desc': 'Món', 'main': Tr...   \n",
      "2    [{'id': 'PUACT_OPINIO', 'desc': 'Opinió', 'mai...   \n",
      "3    [{'id': 'PUACT_MON', 'desc': 'Món', 'main': Tr...   \n",
      "4    [{'id': 'PUACT_MON', 'desc': 'Món', 'main': Tr...   \n",
      "..                                                 ...   \n",
      "129  [{'id': 'PUACT_MON', 'desc': 'Món', 'main': Tr...   \n",
      "130  [{'id': 'PUACT_MON', 'desc': 'Món', 'main': Tr...   \n",
      "131  [{'id': 'PUACT_MON', 'desc': 'Món', 'main': Tr...   \n",
      "132  [{'id': 'PUACT_MON', 'desc': 'Món', 'main': Tr...   \n",
      "133  [{'id': 'PUACT_MON', 'desc': 'Món', 'main': Tr...   \n",
      "\n",
      "                                                  tags       id  \\\n",
      "0    [{'id': 'JOEBIDEN', 'desc': 'Joe Biden', 'main...  3300883   \n",
      "1    [{'id': 'JOEBIDEN', 'desc': 'Joe Biden', 'main...  3300754   \n",
      "2    [{'id': 'JOEBIDEN', 'desc': 'Joe Biden', 'main...  3300710   \n",
      "3    [{'id': 'JOEBIDEN', 'desc': 'Joe Biden', 'main...  3300944   \n",
      "4    [{'id': 'JOEBIDEN', 'desc': 'Joe Biden', 'main...  3301672   \n",
      "..                                                 ...      ...   \n",
      "129  [{'id': 'EUAELECCIONS', 'desc': 'Eleccions Est...  3322269   \n",
      "130  [{'id': 'TRUMP', 'desc': 'Donald Trump ', 'mai...  3323202   \n",
      "131  [{'id': 'TRUMP', 'desc': 'Donald Trump ', 'mai...  3323391   \n",
      "132  [{'id': 'TRUMP', 'desc': 'Donald Trump ', 'mai...  3323520   \n",
      "133  [{'id': 'ESTATSUNITS', 'desc': 'Estats Units',...  3323682   \n",
      "\n",
      "                                                 titol  \\\n",
      "0    Biden reapareix decidit a seguir després del f...   \n",
      "1    Quines opcions hi ha que Biden plegui? La curs...   \n",
      "2    Un Biden fràgil contra un Trump trampós: video...   \n",
      "3    \"Pànic\", la impactant portada que mostra la pr...   \n",
      "4    Joe Biden hauria dit a un col·laborador que du...   \n",
      "..                                                 ...   \n",
      "129  Trump tria Chris Wright, empresari del petroli...   \n",
      "130  Trump tria ara Pam Bondi, exadvocada seva i pr...   \n",
      "131  Trump situa Scott Bessent, magnat financer i s...   \n",
      "132  El novembre més negre de Cuba: empobrida i ate...   \n",
      "133  La jutge tanca el cas contra Trump per l'assal...   \n",
      "\n",
      "                                               imatges  titol_portada  \\\n",
      "0    [{'text': 'https://img.3cat.cat/multimedia/jpg...            NaN   \n",
      "1    [{'text': 'https://img.3cat.cat/multimedia/jpg...            NaN   \n",
      "2    [{'text': 'https://img.3cat.cat/multimedia/jpg...            NaN   \n",
      "3    [{'text': 'https://img.3cat.cat/multimedia/jpg...            NaN   \n",
      "4    [{'text': 'https://img.3cat.cat/multimedia/jpg...            NaN   \n",
      "..                                                 ...            ...   \n",
      "129  [{'text': 'https://img.3cat.cat/multimedia/jpg...            NaN   \n",
      "130  [{'text': 'https://img.3cat.cat/multimedia/jpg...            NaN   \n",
      "131  [{'text': 'https://img.3cat.cat/multimedia/jpg...            NaN   \n",
      "132  [{'text': 'https://img.3cat.cat/multimedia/jpg...            NaN   \n",
      "133  [{'text': 'https://img.3cat.cat/multimedia/jpg...            NaN   \n",
      "\n",
      "     comarques                                                cos  redactor  \n",
      "0          NaN  Després del debat contra Donald Trump, el pres...  Redacció  \n",
      "1          NaN  La cursa per a la Casa Blanca entra en territo...       NaN  \n",
      "2          NaN  Si Joe Biden volia aprofitar aquest debat per ...       NaN  \n",
      "3          NaN  Un Joe Biden a punt de sortir -o caure- de la ...  Redacció  \n",
      "4          NaN  Podríem estar al davant d'un gir total de timó...  Redacció  \n",
      "..         ...                                                ...       ...  \n",
      "129        NaN  L'anunci de la persona designada per Donald Tr...  Redacció  \n",
      "130        NaN  Donald Trump s'ha afanyat a fer públic el nom ...  Redacció  \n",
      "131        NaN  Donald Trump ja té candidat a secretari del Tr...  Redacció  \n",
      "132        NaN  Els quatre anys de mandat de Joe Biden han est...  Redacció  \n",
      "133        NaN  Bones notícies judicials per a Donald Trump. E...  Redacció  \n",
      "\n",
      "[134 rows x 13 columns]\n"
     ]
    }
   ],
   "source": [
    "result_eua = pd.merge(df2, df_id, on='id', how='inner')\n",
    "\n",
    "print(result_eua)"
   ]
  },
  {
   "cell_type": "code",
   "execution_count": 12,
   "metadata": {},
   "outputs": [],
   "source": [
    "# we save the csv files\n",
    "result_ai_news.to_csv('ai_news_dataset.csv', index=False)\n",
    "result_eua.to_csv('euaeleccions_news_dataset.csv', index=False)"
   ]
  },
  {
   "cell_type": "code",
   "execution_count": null,
   "metadata": {},
   "outputs": [],
   "source": []
  }
 ],
 "metadata": {
  "kernelspec": {
   "display_name": "api_env",
   "language": "python",
   "name": "python3"
  },
  "language_info": {
   "codemirror_mode": {
    "name": "ipython",
    "version": 3
   },
   "file_extension": ".py",
   "mimetype": "text/x-python",
   "name": "python",
   "nbconvert_exporter": "python",
   "pygments_lexer": "ipython3",
   "version": "3.8.20"
  }
 },
 "nbformat": 4,
 "nbformat_minor": 2
}
