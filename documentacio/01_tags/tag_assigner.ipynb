{
 "cells": [
  {
   "cell_type": "code",
   "execution_count": null,
   "metadata": {},
   "outputs": [],
   "source": [
    "import pandas as pd\n",
    "import ast"
   ]
  },
  {
   "cell_type": "code",
   "execution_count": null,
   "metadata": {},
   "outputs": [],
   "source": [
    "# L'objectiu és, donada una notícia, retornar les tags que més encaixen per a aquesta\n",
    "# En primer lloc recuperarem el dataset sencer, ja que ho provarem amb totes les etiquetes\n",
    "\n",
    "# Load the CSV file into a pandas DataFrame\n",
    "df = pd.read_csv('final_dataset_v1.csv', delimiter=',', encoding='utf-8', low_memory=False)\n"
   ]
  },
  {
   "cell_type": "code",
   "execution_count": 3,
   "metadata": {},
   "outputs": [
    {
     "data": {
      "text/plain": [
       "147093"
      ]
     },
     "execution_count": 3,
     "metadata": {},
     "output_type": "execute_result"
    }
   ],
   "source": [
    "len(df)"
   ]
  },
  {
   "cell_type": "code",
   "execution_count": 3,
   "metadata": {},
   "outputs": [],
   "source": [
    "############################################################################### LET'S START WITH THE NEWS"
   ]
  },
  {
   "cell_type": "code",
   "execution_count": 18,
   "metadata": {},
   "outputs": [],
   "source": [
    "df_with_tags = df[df['tags'].notnull()]"
   ]
  },
  {
   "cell_type": "code",
   "execution_count": 14,
   "metadata": {},
   "outputs": [
    {
     "name": "stdout",
     "output_type": "stream",
     "text": [
      "['gpt-4o-audio-preview-2024-10-01', 'gpt-4o-mini-audio-preview', 'chatgpt-4o-latest', 'gpt-4o-mini-audio-preview-2024-12-17', 'o1-2024-12-17', 'gpt-4o-2024-11-20', 'gpt-4o-mini-realtime-preview', 'dall-e-2', 'o1', 'gpt-3.5-turbo', 'o1-preview-2024-09-12', 'gpt-3.5-turbo-0125', 'o1-preview', 'gpt-3.5-turbo-instruct', 'babbage-002', 'o1-mini-2024-09-12', 'whisper-1', 'dall-e-3', 'gpt-4-1106-preview', 'omni-moderation-latest', 'omni-moderation-2024-09-26', 'tts-1-hd-1106', 'gpt-4', 'gpt-4o-2024-05-13', 'tts-1-hd', 'davinci-002', 'gpt-4o', 'gpt-4o-2024-08-06', 'text-embedding-ada-002', 'gpt-4-0613', 'gpt-4-turbo', 'tts-1', 'tts-1-1106', 'gpt-3.5-turbo-instruct-0914', 'gpt-4-turbo-preview', 'gpt-4o-mini-realtime-preview-2024-12-17', 'gpt-4o-audio-preview', 'text-embedding-3-small', 'gpt-4-turbo-2024-04-09', 'gpt-3.5-turbo-1106', 'gpt-4o-realtime-preview-2024-10-01', 'gpt-3.5-turbo-16k', 'gpt-4o-audio-preview-2024-12-17', 'text-embedding-3-large', 'gpt-4o-realtime-preview-2024-12-17', 'gpt-4o-mini-2024-07-18', 'gpt-4o-realtime-preview', 'gpt-4-0125-preview', 'gpt-4o-mini', 'o1-mini']\n"
     ]
    }
   ],
   "source": [
    "# Llibreries necessàries\n",
    "import os\n",
    "import openai\n",
    "import dotenv\n",
    "from openai import OpenAI\n",
    "import sys\n",
    "import pandas as pd\n",
    "import json\n",
    "from dotenv import load_dotenv\n",
    "import re\n",
    "\n",
    "# Carreguem la API KEY\n",
    "load_dotenv()\n",
    "openai_api_key = os.getenv('OPENAI_API_KEY')\n",
    "openai.api_key = openai_api_key\n",
    "\n",
    "# Models disponibles\n",
    "models = openai.models.list()\n",
    "model_list = [model.id for model in models.data]\n",
    "print(model_list)"
   ]
  },
  {
   "cell_type": "code",
   "execution_count": 6,
   "metadata": {},
   "outputs": [],
   "source": [
    "# Estudiarem com de positives o negatives són les notícies\n",
    "template = '''\n",
    "The following is a news article. Read it and perform the task that follows. Respond with a list as it is explained later.\n",
    "\n",
    "\n",
    "####################\n",
    "\n",
    "\n",
    "{article}\n",
    "\n",
    "\n",
    "####################\n",
    "\n",
    "The following is a list of pairs \"id\", \"desc\" for all possible tags. \n",
    "\n",
    "\n",
    "####################\n",
    "\n",
    "\n",
    "{tags}\n",
    "\n",
    "\n",
    "####################\n",
    "\n",
    "\n",
    "Task: Determine the the tags that best fit the article given a list of existing tags.\n",
    "\n",
    "\n",
    "1. Instruction: Provide a list of tags that best fit the article. The format shoud be a list of dictionaries, where each dictionary has three keys: \"id\", \"desc\" and \"main\". The \"id\" key should contain the id of the tag, and the \"desc\" key should contain the description of the tag and main should be True only for the main tag for the article.\n",
    "\n",
    "2. Tags provided: you are provided with a json file with pairs of \"id\" and \"desc\" tags, the \"desc\" are the descriptions of the tags. You will have to choose the tags that best fit the article from this list. Do not add more than 5 tags, it is not necessary to put 5 tags if you think that less tags are enough. Do not return anything except the list of tags that best fit the article. Do not include the article in your response nor anything else.\n",
    "\n",
    "'''"
   ]
  },
  {
   "cell_type": "code",
   "execution_count": 15,
   "metadata": {},
   "outputs": [],
   "source": [
    "# Estudiarem com de positives o negatives són les notícies\n",
    "template_cat = '''\n",
    "A continuació es presenta un article de notícies. Llegeix i realitza la tasca que segueix. Respon amb una llista tal com s'explica més endavant. Ets un assistent periodístic que ajudarà a escollir les etiquetes ideals per una notícia.\n",
    "\n",
    "####################\n",
    "\n",
    "\n",
    "{article}\n",
    "\n",
    "\n",
    "####################\n",
    "\n",
    "A continuació es presenta una llista de parelles \"id\", \"desc\" per a tots els tags possibles.\n",
    "\n",
    "####################\n",
    "\n",
    "\n",
    "{tags}\n",
    "\n",
    "\n",
    "####################\n",
    "\n",
    "\n",
    "Tasca: Proposa les etiquetes que millor s'adapten a l'article donat una llista d'etiquetes existents.\n",
    "\n",
    "1. Instrucció: Proporcioneu una llista d'etiquetes que millor s'adaptin a l'article. El format ha de ser una llista de diccionaris, on cada diccionari té tres claus: \"id\", \"desc\" i \"main\". La clau \"id\" ha de contenir l'identificador de l'etiqueta, la clau \"desc\" ha de contenir la descripció de l'etiqueta, i \"main\" ha de ser True només per a l'etiqueta principal de l'article. Escollir les etiquetes que millor s'adapten a l'article d'aquesta llista. Suggerir entre 5 i 15 etiquetes perquè el periodista pugui elegir. Hi ha moltes etiquetes de països, pensa a afegir alguna sobre un passa la notícia. No tornis res més que la llista d'etiquetes que millor s'adapten a l'article. No incloguis l'article en la teva resposta ni res més.\n",
    "\n",
    "'''"
   ]
  },
  {
   "cell_type": "code",
   "execution_count": 16,
   "metadata": {},
   "outputs": [],
   "source": [
    "client = OpenAI()\n",
    "\n",
    "def generate_prompt(article, templ):\n",
    "    article_cos = article['cos']\n",
    "    article_cos = str(article_cos)\n",
    "    prompt = templ.replace(\"{article}\", article_cos)\n",
    "    prompt = prompt.replace(\"{tags}\", open(\"tags.json\", \"r\").read())\n",
    "    return prompt\n",
    "\n",
    "def generate_api_response_model_4o(prompt):\n",
    "    completion = client.chat.completions.create(\n",
    "      model=\"gpt-4o\",\n",
    "      messages=[\n",
    "        {\"role\": \"user\", \"content\": prompt}\n",
    "      ]\n",
    "    )\n",
    "    response_content = completion.choices[0].message.content\n",
    "    return response_content, completion"
   ]
  },
  {
   "cell_type": "code",
   "execution_count": 19,
   "metadata": {},
   "outputs": [
    {
     "data": {
      "text/html": [
       "<div>\n",
       "<style scoped>\n",
       "    .dataframe tbody tr th:only-of-type {\n",
       "        vertical-align: middle;\n",
       "    }\n",
       "\n",
       "    .dataframe tbody tr th {\n",
       "        vertical-align: top;\n",
       "    }\n",
       "\n",
       "    .dataframe thead th {\n",
       "        text-align: right;\n",
       "    }\n",
       "</style>\n",
       "<table border=\"1\" class=\"dataframe\">\n",
       "  <thead>\n",
       "    <tr style=\"text-align: right;\">\n",
       "      <th></th>\n",
       "      <th>id</th>\n",
       "      <th>data</th>\n",
       "      <th>entradeta</th>\n",
       "      <th>permatitle</th>\n",
       "      <th>avantitol</th>\n",
       "      <th>tematiques</th>\n",
       "      <th>tags</th>\n",
       "      <th>titol</th>\n",
       "      <th>titol_portada</th>\n",
       "      <th>comarques</th>\n",
       "      <th>cos</th>\n",
       "      <th>redactor</th>\n",
       "      <th>imatges</th>\n",
       "    </tr>\n",
       "  </thead>\n",
       "  <tbody>\n",
       "    <tr>\n",
       "      <th>143189</th>\n",
       "      <td>3316897</td>\n",
       "      <td>2024-10-17</td>\n",
       "      <td>Sinwar havia assumit des de principis d'agost ...</td>\n",
       "      <td>Israel investiga si ha matat el líder de Hamas...</td>\n",
       "      <td>NaN</td>\n",
       "      <td>[{'id': 'PUACT_MON', 'desc': 'Món', 'main': Tr...</td>\n",
       "      <td>[{'id': 'ISRAEL', 'desc': 'Israel', 'main': Fa...</td>\n",
       "      <td>Israel mata a Gaza Yahya Sinwar, líder de Hama...</td>\n",
       "      <td>NaN</td>\n",
       "      <td>NaN</td>\n",
       "      <td>El líder de Hamas, Yahya Sinwar, va morir aque...</td>\n",
       "      <td>Redacció/Agències</td>\n",
       "      <td>[{'text': 'https://img.3cat.cat/multimedia/jpg...</td>\n",
       "    </tr>\n",
       "  </tbody>\n",
       "</table>\n",
       "</div>"
      ],
      "text/plain": [
       "             id        data  \\\n",
       "143189  3316897  2024-10-17   \n",
       "\n",
       "                                                entradeta  \\\n",
       "143189  Sinwar havia assumit des de principis d'agost ...   \n",
       "\n",
       "                                               permatitle avantitol  \\\n",
       "143189  Israel investiga si ha matat el líder de Hamas...       NaN   \n",
       "\n",
       "                                               tematiques  \\\n",
       "143189  [{'id': 'PUACT_MON', 'desc': 'Món', 'main': Tr...   \n",
       "\n",
       "                                                     tags  \\\n",
       "143189  [{'id': 'ISRAEL', 'desc': 'Israel', 'main': Fa...   \n",
       "\n",
       "                                                    titol titol_portada  \\\n",
       "143189  Israel mata a Gaza Yahya Sinwar, líder de Hama...           NaN   \n",
       "\n",
       "       comarques                                                cos  \\\n",
       "143189       NaN  El líder de Hamas, Yahya Sinwar, va morir aque...   \n",
       "\n",
       "                 redactor                                            imatges  \n",
       "143189  Redacció/Agències  [{'text': 'https://img.3cat.cat/multimedia/jpg...  "
      ]
     },
     "execution_count": 19,
     "metadata": {},
     "output_type": "execute_result"
    }
   ],
   "source": [
    "# Let's get a random row from df_with_tags\n",
    "row = df_with_tags.sample()\n",
    "\n",
    "row"
   ]
  },
  {
   "cell_type": "code",
   "execution_count": 20,
   "metadata": {},
   "outputs": [
    {
     "name": "stdout",
     "output_type": "stream",
     "text": [
      "Sinwar havia assumit des de principis d'agost el lideratge polític del grup islamista, després de l'assassinat d'Ismail Haniyeh a l'Iran\n"
     ]
    }
   ],
   "source": [
    "print(row['entradeta'].iloc[0])"
   ]
  },
  {
   "cell_type": "code",
   "execution_count": 21,
   "metadata": {},
   "outputs": [],
   "source": [
    "prompt = generate_prompt(row, template_cat)\n",
    "response = generate_api_response_model_4o(prompt)"
   ]
  },
  {
   "cell_type": "code",
   "execution_count": 21,
   "metadata": {},
   "outputs": [
    {
     "name": "stdout",
     "output_type": "stream",
     "text": [
      "Viure en una casa de palla és tendència. Fa més d'una dècada, la majoria d'arquitectes pensaven que fer cases amb murs de palla era un disbarat. Anys després, és un material que va a l'alça en la construcció de cases ecològiques. No és una opció més econòmica, però sí més sostenible i més eficient energèticament. La temperatura es manté estable a 19 graus. \n",
      "\n",
      "La finestra de la veritat destaca sobre l'arrebossat d'argila (Nati Adell / Catalunya Ràdio)\n",
      "\n",
      "A Mirco Zeccheto, d'origen italià, se'l coneix com l'arquitecte de la palla.\n",
      "\n",
      "\"No passes fred a l'hivern, ni calor a l'estiu. La humitat és la que toca. Els materials naturals, com la terra, el suro o el cànem l'autoregulen. Si n'hi ha massa, la treu, i si en té poca, l'agafa.\"\n",
      "\n",
      "\n",
      "L'arquitecte, el propietari i la directora de Firhàbitat, a la casa de palla d'OIvan (Nati Adell / Catalunya Ràdio)\n",
      "\n",
      "Més benestar \n",
      "El més valorat en aquest tipus de cases és el confort i el benestar que aporta estar envoltat de materials vius, tal com explica Zechheto:\n",
      "\n",
      "\"El teu cos es relaciona abans que el teu cap amb aquests materials vius i tens una sensació de benestar, més enllà dels raonaments.\"\n",
      "\n",
      "\n",
      "\n",
      "La casa de palla d'Olvan està construïda amb panells prefabricats de palla (Foto: Mirco Zechetto)\n",
      "\n",
      "\n",
      "Sergi Calvo i la seva família ho van tenir clar des del moment que van comprovar les bones sensacions de ser en una casa de palla.\n",
      "\n",
      "\"La casa té una energia especial. Hi ha una tranquil·litat, alguna cosa que t'hi fa estar a gust. Ho comparo amb la meva vida de ciutat d'abans, a Barcelona, en un pis dels anys 80, i no té res a veure.\"\n",
      "\n",
      "\n",
      "Materials naturals en tots els racons de la casa de palla d'Olvan (Nati Adell / Catalunya Ràdio)\n",
      "\n",
      "Se'n parla, cada cop més, a les universitats i a les escoles d'arquitectura, però encara hi ha molts prejudicis pel gran públic. L'entorn del Sergi es va sorprendre de la decisió. I a casa, van tenir feina a convèncer el seu fill més petit que, a diferència del conte dels tres porquets, la palla és millor que el totxo:\n",
      "\n",
      "\"El meu fill, que quan vam començar a construir la casa tenia 3 anys,  no parava de demanar que féssim la casa amb totxos i pedra perquè de palla li feia por que la destrossés el llop.\"\n",
      "\n",
      "\n",
      "\n",
      "El Sergi Calvo amb titelles de dit dels tres porquets dels seus fills (Nati Adell / Catalunya Ràdio)\n",
      "\n",
      "\n",
      "La directora de Firhàbitat, Rosa Prat, té molt clar quin és el missatge a transmetre.\n",
      "\n",
      "\"Capgirem, totalment, el conte dels tres porquets. Desmuntem el mite. A la gent els fa por pel foc, però els hem d'explicar que és igual de segura una casa de palla o de fusta.\"\n",
      "\n",
      "\n",
      "El 90% dels clients de l'\"arquitecte de la palla\" són autoconstructors (Nati Adell / Catalunya Ràdio)\n",
      "\n",
      "Per Prat, no hi ha dubte que el sector de la bioconstrucció va a l'alça i continuarà creixent.\n",
      "\n",
      "\"Cada cop hi ha més interès perquè estem preocupats per la salut i l'eficiència energètica, però també perquè estem més conscienciats mediambiental i volem que, en fer-nos una casa, no deixem una petjada.\"\n",
      "\n",
      "\n",
      "\n",
      "\n",
      " \n"
     ]
    }
   ],
   "source": [
    "print(row.iloc[0]['cos'])"
   ]
  },
  {
   "cell_type": "code",
   "execution_count": 22,
   "metadata": {},
   "outputs": [
    {
     "name": "stdout",
     "output_type": "stream",
     "text": [
      "[{'id': 'ISRAEL', 'desc': 'Israel', 'main': False}, {'id': 'GAZA', 'desc': 'Gaza', 'main': False}, {'id': 'HAMASISRAEL', 'desc': 'Guerra a Gaza', 'main': False}, {'id': 'HAMAS', 'desc': 'Hamas', 'main': True}]\n"
     ]
    }
   ],
   "source": [
    "print(row.iloc[0]['tags'])"
   ]
  },
  {
   "cell_type": "code",
   "execution_count": 23,
   "metadata": {},
   "outputs": [
    {
     "name": "stdout",
     "output_type": "stream",
     "text": [
      "```json\n",
      "[\n",
      "    {\"id\":\"HAMAS\", \"desc\":\"Hamas\", \"main\":true},\n",
      "    {\"id\":\"ISRAEL\", \"desc\":\"Israel\", \"main\":false},\n",
      "    {\"id\":\"PALESTINA\", \"desc\":\"Palestina\", \"main\":false},\n",
      "    {\"id\":\"PROXIMORIENT\", \"desc\":\"Pròxim Orient\", \"main\":false},\n",
      "    {\"id\":\"GAZA\", \"desc\":\"Gaza\", \"main\":false},\n",
      "    {\"id\":\"TERRORISME\", \"desc\":\"Terrorisme\", \"main\":false},\n",
      "    {\"id\":\"JIHADISME\", \"desc\":\"Jihadisme\", \"main\":false},\n",
      "    {\"id\":\"INTERNACIONA\", \"desc\":\"Internacional\", \"main\":false},\n",
      "    {\"id\":\"POLITICA\", \"desc\":\"Política\", \"main\":false},\n",
      "    {\"id\":\"MEDICLIMA\", \"desc\":\"Medi ambient i crisi climàtica\", \"main\":false},\n",
      "    {\"id\":\"SOCIETAT\", \"desc\":\"Societat\", \"main\":false},\n",
      "    {\"id\":\"ONU\", \"desc\":\"ONU\", \"main\":false},\n",
      "    {\"id\":\"DRETSHUMANS\", \"desc\":\"Drets humans\", \"main\":false},\n",
      "    {\"id\":\"GUERRACIVIL\", \"desc\":\"Guerra Civil espanyola\", \"main\":false}\n",
      "]\n",
      "```\n"
     ]
    }
   ],
   "source": [
    "print(response[0])"
   ]
  },
  {
   "cell_type": "code",
   "execution_count": 60,
   "metadata": {},
   "outputs": [
    {
     "name": "stdout",
     "output_type": "stream",
     "text": [
      "CompletionUsage(completion_tokens=119, prompt_tokens=11754, total_tokens=11873, completion_tokens_details=CompletionTokensDetails(accepted_prediction_tokens=0, audio_tokens=0, reasoning_tokens=0, rejected_prediction_tokens=0), prompt_tokens_details=PromptTokensDetails(audio_tokens=0, cached_tokens=0))\n"
     ]
    }
   ],
   "source": [
    "print(response[1].usage)"
   ]
  },
  {
   "cell_type": "code",
   "execution_count": null,
   "metadata": {},
   "outputs": [],
   "source": []
  }
 ],
 "metadata": {
  "kernelspec": {
   "display_name": "api_env",
   "language": "python",
   "name": "python3"
  },
  "language_info": {
   "codemirror_mode": {
    "name": "ipython",
    "version": 3
   },
   "file_extension": ".py",
   "mimetype": "text/x-python",
   "name": "python",
   "nbconvert_exporter": "python",
   "pygments_lexer": "ipython3",
   "version": "3.8.20"
  }
 },
 "nbformat": 4,
 "nbformat_minor": 2
}
